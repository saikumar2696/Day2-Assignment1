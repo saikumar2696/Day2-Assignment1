{
  "nbformat": 4,
  "nbformat_minor": 0,
  "metadata": {
    "colab": {
      "name": "Day5-Assignment1.ipynb",
      "provenance": [],
      "collapsed_sections": [],
      "authorship_tag": "ABX9TyOqJBpLqnwSETP5huhYjdQm",
      "include_colab_link": true
    },
    "kernelspec": {
      "name": "python3",
      "display_name": "Python 3"
    }
  },
  "cells": [
    {
      "cell_type": "markdown",
      "metadata": {
        "id": "view-in-github",
        "colab_type": "text"
      },
      "source": [
        "<a href=\"https://colab.research.google.com/github/saikumar2696/Day2-Assignment1/blob/main/Day5_Assignment1.ipynb\" target=\"_parent\"><img src=\"https://colab.research.google.com/assets/colab-badge.svg\" alt=\"Open In Colab\"/></a>"
      ]
    },
    {
      "cell_type": "code",
      "metadata": {
        "colab": {
          "base_uri": "https://localhost:8080/"
        },
        "id": "ZB7XZKlF2Fz-",
        "outputId": "065cd817-ca8d-4c25-c983-a60df46457e4"
      },
      "source": [
        "#To check waeather the number is prime or not\r\n",
        "num=9\r\n",
        "if num > 1:\r\n",
        "   for i in range(2,num):\r\n",
        "       if (num % i) == 0:\r\n",
        "           print(num,\"is not a prime number\")\r\n",
        "           break\r\n",
        "   else:\r\n",
        "       print(num,\"is a prime number\")\r\n",
        "else:\r\n",
        "   print(num,\"is not a prime number\")"
      ],
      "execution_count": 9,
      "outputs": [
        {
          "output_type": "stream",
          "text": [
            "9 is not a prime number\n"
          ],
          "name": "stdout"
        }
      ]
    },
    {
      "cell_type": "code",
      "metadata": {
        "id": "E7lDhe_H2HOo"
      },
      "source": [
        ""
      ],
      "execution_count": null,
      "outputs": []
    }
  ]
}