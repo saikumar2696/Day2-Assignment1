{
  "nbformat": 4,
  "nbformat_minor": 0,
  "metadata": {
    "colab": {
      "name": "Day2 Assignment1.ipynb",
      "provenance": [],
      "collapsed_sections": []
    },
    "kernelspec": {
      "name": "python3",
      "display_name": "Python 3"
    }
  },
  "cells": [
    {
      "cell_type": "code",
      "metadata": {
        "colab": {
          "base_uri": "https://localhost:8080/"
        },
        "id": "Pim_Q_Zh6HFB",
        "outputId": "918e4af5-594f-45a7-cd57-593d624b38c6"
      },
      "source": [
        "#1st experiment with list\r\n",
        "mylist = [1,2,3,4,5]\r\n",
        "print(mylist)\r\n"
      ],
      "execution_count": 1,
      "outputs": [
        {
          "output_type": "stream",
          "text": [
            "[1, 2, 3, 4, 5]\n"
          ],
          "name": "stdout"
        }
      ]
    },
    {
      "cell_type": "code",
      "metadata": {
        "colab": {
          "base_uri": "https://localhost:8080/",
          "height": 35
        },
        "id": "3FrhhAe77T2K",
        "outputId": "58f3bf54-208c-42d6-c66a-e7c7a2d5ee20"
      },
      "source": [
        "#2nd experiment with list\r\n",
        "mylist=[2,4,6,\"sai\"]\r\n",
        "mylist[3]"
      ],
      "execution_count": 6,
      "outputs": [
        {
          "output_type": "execute_result",
          "data": {
            "application/vnd.google.colaboratory.intrinsic+json": {
              "type": "string"
            },
            "text/plain": [
              "'sai'"
            ]
          },
          "metadata": {
            "tags": []
          },
          "execution_count": 6
        }
      ]
    },
    {
      "cell_type": "code",
      "metadata": {
        "colab": {
          "base_uri": "https://localhost:8080/"
        },
        "id": "EASGzjeO7tw4",
        "outputId": "c98e2974-7eac-40f1-f041-054e915e1c61"
      },
      "source": [
        "#3rd experiment with list\r\n",
        "mylist=[\"new\",\"world\",0,5,9]\r\n",
        "mylist[-1]"
      ],
      "execution_count": 7,
      "outputs": [
        {
          "output_type": "execute_result",
          "data": {
            "text/plain": [
              "9"
            ]
          },
          "metadata": {
            "tags": []
          },
          "execution_count": 7
        }
      ]
    },
    {
      "cell_type": "code",
      "metadata": {
        "colab": {
          "base_uri": "https://localhost:8080/"
        },
        "id": "0uGgLbIv84QK",
        "outputId": "7001a6a7-598b-487c-b450-4237c77afda0"
      },
      "source": [
        "#4th experiment with list\r\n",
        "mylist=[3,6,9]\r\n",
        "mylist.append(12)\r\n",
        "print(mylist)"
      ],
      "execution_count": 9,
      "outputs": [
        {
          "output_type": "stream",
          "text": [
            "[3, 6, 9, 12]\n"
          ],
          "name": "stdout"
        }
      ]
    },
    {
      "cell_type": "code",
      "metadata": {
        "id": "MxLSIRzc9VDb"
      },
      "source": [
        "#5th experiment with list\r\n",
        "mylist=(2,3,4,7,9,0,5,)\r\n",
        "del mylist\r\n",
        "\r\n"
      ],
      "execution_count": 22,
      "outputs": []
    },
    {
      "cell_type": "code",
      "metadata": {
        "id": "W2i3jR1T9i3B"
      },
      "source": [
        ""
      ],
      "execution_count": null,
      "outputs": []
    }
  ]
}