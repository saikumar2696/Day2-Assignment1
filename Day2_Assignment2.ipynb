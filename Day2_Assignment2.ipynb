{
  "nbformat": 4,
  "nbformat_minor": 0,
  "metadata": {
    "colab": {
      "name": "Day2 Assignment2.ipynb",
      "provenance": [],
      "collapsed_sections": [],
      "authorship_tag": "ABX9TyN+K/Nte5iv6puy2+4FBgHs",
      "include_colab_link": true
    },
    "kernelspec": {
      "name": "python3",
      "display_name": "Python 3"
    }
  },
  "cells": [
    {
      "cell_type": "markdown",
      "metadata": {
        "id": "view-in-github",
        "colab_type": "text"
      },
      "source": [
        "<a href=\"https://colab.research.google.com/github/saikumar2696/Day2-Assignment1/blob/main/Day2_Assignment2.ipynb\" target=\"_parent\"><img src=\"https://colab.research.google.com/assets/colab-badge.svg\" alt=\"Open In Colab\"/></a>"
      ]
    },
    {
      "cell_type": "code",
      "metadata": {
        "colab": {
          "base_uri": "https://localhost:8080/"
        },
        "id": "xJDFVMh0DLoH",
        "outputId": "060a0a5c-f509-4c62-e026-63664126dd26"
      },
      "source": [
        "#1st experiment with dictionary\r\n",
        "mydict={\"name\":\"sai\",\"age\":21,\"location\":\"vijayawada\"}\r\n",
        "mydict"
      ],
      "execution_count": 6,
      "outputs": [
        {
          "output_type": "execute_result",
          "data": {
            "text/plain": [
              "{'age': 21, 'location': 'vijayawada', 'name': 'sai'}"
            ]
          },
          "metadata": {
            "tags": []
          },
          "execution_count": 6
        }
      ]
    },
    {
      "cell_type": "code",
      "metadata": {
        "colab": {
          "base_uri": "https://localhost:8080/"
        },
        "id": "yKvLONQCGp5T",
        "outputId": "1a39e7e4-030a-441d-cf92-1c18950594ff"
      },
      "source": [
        "#2nd experiment with dictionary\r\n",
        "bioData = {\"name\":\"sai\",\"age\":21}\r\n",
        "bioData.get(\"age\")"
      ],
      "execution_count": 17,
      "outputs": [
        {
          "output_type": "execute_result",
          "data": {
            "text/plain": [
              "21"
            ]
          },
          "metadata": {
            "tags": []
          },
          "execution_count": 17
        }
      ]
    },
    {
      "cell_type": "code",
      "metadata": {
        "colab": {
          "base_uri": "https://localhost:8080/"
        },
        "id": "oH8Ix-N6JB54",
        "outputId": "e87ab1c7-a42d-4919-ad05-00763b5c4828"
      },
      "source": [
        "#3rd experiment with dictionary-remove element\r\n",
        "mydict={1:1,2:2,3:6,4:8,5:10,6:12}\r\n",
        "mydict.pop(2)\r\n",
        "print(mydict)"
      ],
      "execution_count": 25,
      "outputs": [
        {
          "output_type": "stream",
          "text": [
            "{1: 1, 3: 6, 4: 8, 5: 10, 6: 12}\n"
          ],
          "name": "stdout"
        }
      ]
    },
    {
      "cell_type": "code",
      "metadata": {
        "colab": {
          "base_uri": "https://localhost:8080/"
        },
        "id": "oPnRczagK2S5",
        "outputId": "6dba7011-2c79-4abc-f6c5-5d824863c9b0"
      },
      "source": [
        "#4th experiment with dictionary\r\n",
        "mydict={\"english\":90,\"science\":60}\r\n",
        "mydict.get(\"science\")"
      ],
      "execution_count": 33,
      "outputs": [
        {
          "output_type": "execute_result",
          "data": {
            "text/plain": [
              "60"
            ]
          },
          "metadata": {
            "tags": []
          },
          "execution_count": 33
        }
      ]
    },
    {
      "cell_type": "code",
      "metadata": {
        "colab": {
          "base_uri": "https://localhost:8080/"
        },
        "id": "dbbfD5qeNVsy",
        "outputId": "c7686181-9461-4bac-bdf6-5ff1904b91eb"
      },
      "source": [
        "#5th experiment with dictionary\r\n",
        "mydict={\"key1\":\"earth\",\"key2\":\"venus\",}\r\n",
        "print(mydict)\r\n"
      ],
      "execution_count": 38,
      "outputs": [
        {
          "output_type": "stream",
          "text": [
            "{'key1': 'earth', 'key2': 'venus'}\n"
          ],
          "name": "stdout"
        }
      ]
    },
    {
      "cell_type": "code",
      "metadata": {
        "id": "6ZtWd0JosarM"
      },
      "source": [
        "9"
      ],
      "execution_count": null,
      "outputs": []
    }
  ]
}